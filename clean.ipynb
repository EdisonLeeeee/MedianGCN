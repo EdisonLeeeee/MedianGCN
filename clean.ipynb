{
 "cells": [
  {
   "cell_type": "code",
   "execution_count": 1,
   "metadata": {},
   "outputs": [
    {
     "data": {
      "text/plain": [
       "'0.8.0'"
      ]
     },
     "execution_count": 1,
     "metadata": {},
     "output_type": "execute_result"
    }
   ],
   "source": [
    "import numpy as np\n",
    "import scipy.sparse as sp\n",
    "from graphgallery import functional as gf \n",
    "import graphgallery as gg\n",
    "gg.__version__"
   ]
  },
  {
   "cell_type": "markdown",
   "metadata": {},
   "source": [
    "# Use PyTorch backend"
   ]
  },
  {
   "cell_type": "code",
   "execution_count": 2,
   "metadata": {},
   "outputs": [
    {
     "data": {
      "text/plain": [
       "PyTorch 1.6.0 Backend"
      ]
     },
     "execution_count": 2,
     "metadata": {},
     "output_type": "execute_result"
    }
   ],
   "source": [
    "gg.set_backend(\"torch\")"
   ]
  },
  {
   "cell_type": "markdown",
   "metadata": {},
   "source": [
    "# Load datasets\n",
    "+ cora\n",
    "+ citeseer\n",
    "+ cora_ml\n",
    "+ pubmed"
   ]
  },
  {
   "cell_type": "code",
   "execution_count": 3,
   "metadata": {},
   "outputs": [],
   "source": [
    "dataset = 'cora'\n",
    "data = gg.datasets.NPZDataset(dataset, root='~/GraphData/datasets/', transform=\"standardize\",  verbose=False)\n",
    "splits = data.split_nodes(random_state=15)\n",
    "graph = data.graph"
   ]
  },
  {
   "cell_type": "markdown",
   "metadata": {},
   "source": [
    "# MedianGCN and TrimmedGCN"
   ]
  },
  {
   "cell_type": "code",
   "execution_count": 4,
   "metadata": {},
   "outputs": [],
   "source": [
    "from median_gcn import MedianGCN\n",
    "from trimmed_gcn import TrimmedGCN\n",
    "\n",
    "## You can even import them from graphgallery\n",
    "## e.g.\n",
    "# from graphgallery.gallery.nodeclas import MedianGCN\n",
    "# from graphgallery.gallery.nodeclas import TrimmedGCN"
   ]
  },
  {
   "cell_type": "code",
   "execution_count": 5,
   "metadata": {},
   "outputs": [
    {
     "name": "stdout",
     "output_type": "stream",
     "text": [
      "Training...\n",
      "200/200 [====================] - Total: 330.31s - 1s/step - loss: 0.025 - accuracy: 0.992 - val_loss: 1.037 - val_accuracy: 0.815\n",
      "Testing...\n",
      "1/1 [====================] - Total: 112.30ms - 112ms/step - loss: 0.516 - accuracy: 0.853\n"
     ]
    },
    {
     "data": {
      "text/plain": [
       "Objects in BunchDict:\n",
       "╒══════════╤═══════════╕\n",
       "│ Names    │   Objects │\n",
       "╞══════════╪═══════════╡\n",
       "│ loss     │  0.515891 │\n",
       "├──────────┼───────────┤\n",
       "│ accuracy │  0.852616 │\n",
       "╘══════════╧═══════════╛"
      ]
     },
     "execution_count": 5,
     "metadata": {},
     "output_type": "execute_result"
    }
   ],
   "source": [
    "# Median convolution needs a smller `weight_decay`\n",
    "median = MedianGCN(device=\"cuda\", seed=10).make_data(graph).build(hids=64, weight_decay=5e-5)\n",
    "# median = TrimmedGCN(device=\"cuda\", seed=10).make_data(graph).build(hids=64, weight_decay=5e-5)\n",
    "his = median.fit(splits.train_nodes, splits.val_nodes, verbose=1, epochs=200)\n",
    "\n",
    "# performance on test set\n",
    "median.evaluate(splits.test_nodes)"
   ]
  },
  {
   "cell_type": "markdown",
   "metadata": {},
   "source": [
    "# Baseline: GCN"
   ]
  },
  {
   "cell_type": "code",
   "execution_count": 6,
   "metadata": {},
   "outputs": [
    {
     "name": "stdout",
     "output_type": "stream",
     "text": [
      "Training...\n",
      "100/100 [====================] - Total: 384.03ms - 3ms/step - loss: 0.037 - accuracy: 0.992 - val_loss: 0.621 - val_accuracy: 0.811\n",
      "Testing...\n",
      "1/1 [====================] - Total: 1.77ms - 1ms/step - loss: 0.618 - accuracy: 0.850\n"
     ]
    },
    {
     "data": {
      "text/plain": [
       "Objects in BunchDict:\n",
       "╒══════════╤═══════════╕\n",
       "│ Names    │   Objects │\n",
       "╞══════════╪═══════════╡\n",
       "│ loss     │  0.617904 │\n",
       "├──────────┼───────────┤\n",
       "│ accuracy │  0.849598 │\n",
       "╘══════════╧═══════════╛"
      ]
     },
     "execution_count": 6,
     "metadata": {},
     "output_type": "execute_result"
    }
   ],
   "source": [
    "gcn = gg.gallery.nodeclas.GCN(device=\"cuda\", seed=10).make_data(graph).build(hids=64)\n",
    "his = gcn.fit(splits.train_nodes, splits.val_nodes, verbose=1, epochs=100)\n",
    "\n",
    "# performance on test set\n",
    "gcn.evaluate(splits.test_nodes)"
   ]
  },
  {
   "cell_type": "markdown",
   "metadata": {},
   "source": [
    "# All parameters"
   ]
  },
  {
   "cell_type": "code",
   "execution_count": 7,
   "metadata": {},
   "outputs": [
    {
     "name": "stdout",
     "output_type": "stream",
     "text": [
      "backend: PyTorch\n",
      "boolx: bool\n",
      "data:\n",
      "  adj_transform: normalize_adj\n",
      "  attr_transform: None\n",
      "  device: None\n",
      "  edge_transform: None\n",
      "  graph_transform: None\n",
      "  label_transform: None\n",
      "device: cuda\n",
      "evaluate:\n",
      "  Progbar:\n",
      "    width: 20\n",
      "  cache_test_data: False\n",
      "  verbose: 1\n",
      "fit:\n",
      "  EarlyStopping:\n",
      "    baseline: None\n",
      "    enabled: False\n",
      "    mode: auto\n",
      "    monitor: val_loss\n",
      "    patience: 10\n",
      "    restore_best_weights: True\n",
      "    verbose: 1\n",
      "  Logger:\n",
      "    enabled: False\n",
      "    filepath: None\n",
      "    name: None\n",
      "  ModelCheckpoint:\n",
      "    enabled: True\n",
      "    monitor: val_accuracy\n",
      "    path: ./MedianGCN_checkpoint_95abb3.h5\n",
      "    remove_weights: True\n",
      "    save_best_only: True\n",
      "    save_weights_only: True\n",
      "    vervose: 0\n",
      "  Progbar:\n",
      "    width: 20\n",
      "  TensorBoard:\n",
      "    enabled: False\n",
      "    histogram_freq: 0\n",
      "    log_dir: ./logs\n",
      "    update_freq: epoch\n",
      "    write_graph: True\n",
      "    write_images: True\n",
      "  TerminateOnNaN:\n",
      "    enabled: False\n",
      "  cache_train_data: False\n",
      "  cache_val_data: False\n",
      "  epochs: 200\n",
      "  verbose: 1\n",
      "floatx: float32\n",
      "intx: int64\n",
      "model:\n",
      "  acts: ['relu']\n",
      "  bias: False\n",
      "  build_from_other_model: False\n",
      "  dropout: 0.5\n",
      "  hids: [64]\n",
      "  lr: 0.01\n",
      "  weight_decay: 5e-05\n",
      "name: MedianGCN\n",
      "predict:\n",
      "  cache_predict_data: False\n",
      "  transform: None\n",
      "seed: 10\n",
      "task: Node Classification\n"
     ]
    }
   ],
   "source": [
    "print(median.cfg)"
   ]
  },
  {
   "cell_type": "code",
   "execution_count": 8,
   "metadata": {},
   "outputs": [
    {
     "name": "stdout",
     "output_type": "stream",
     "text": [
      "backend: PyTorch\n",
      "boolx: bool\n",
      "data:\n",
      "  adj_transform: normalize_adj\n",
      "  attr_transform: None\n",
      "  device: None\n",
      "  edge_transform: None\n",
      "  graph_transform: None\n",
      "  label_transform: None\n",
      "device: cuda\n",
      "evaluate:\n",
      "  Progbar:\n",
      "    width: 20\n",
      "  cache_test_data: False\n",
      "  verbose: 1\n",
      "fit:\n",
      "  EarlyStopping:\n",
      "    baseline: None\n",
      "    enabled: False\n",
      "    mode: auto\n",
      "    monitor: val_loss\n",
      "    patience: 10\n",
      "    restore_best_weights: True\n",
      "    verbose: 1\n",
      "  Logger:\n",
      "    enabled: False\n",
      "    filepath: None\n",
      "    name: None\n",
      "  ModelCheckpoint:\n",
      "    enabled: True\n",
      "    monitor: val_accuracy\n",
      "    path: ./GCN_checkpoint_5c41d3.h5\n",
      "    remove_weights: True\n",
      "    save_best_only: True\n",
      "    save_weights_only: True\n",
      "    vervose: 0\n",
      "  Progbar:\n",
      "    width: 20\n",
      "  TensorBoard:\n",
      "    enabled: False\n",
      "    histogram_freq: 0\n",
      "    log_dir: ./logs\n",
      "    update_freq: epoch\n",
      "    write_graph: True\n",
      "    write_images: True\n",
      "  TerminateOnNaN:\n",
      "    enabled: False\n",
      "  cache_train_data: False\n",
      "  cache_val_data: False\n",
      "  epochs: 100\n",
      "  verbose: 1\n",
      "floatx: float32\n",
      "intx: int64\n",
      "model:\n",
      "  acts: ['relu']\n",
      "  bias: False\n",
      "  build_from_other_model: False\n",
      "  dropout: 0.5\n",
      "  hids: [64]\n",
      "  lr: 0.01\n",
      "  weight_decay: 0.0005\n",
      "name: GCN\n",
      "predict:\n",
      "  cache_predict_data: False\n",
      "  transform: None\n",
      "seed: 10\n",
      "task: Node Classification\n"
     ]
    }
   ],
   "source": [
    "print(gcn.cfg)"
   ]
  }
 ],
 "metadata": {
  "kernelspec": {
   "display_name": "Python 3",
   "language": "python",
   "name": "python3"
  },
  "language_info": {
   "codemirror_mode": {
    "name": "ipython",
    "version": 3
   },
   "file_extension": ".py",
   "mimetype": "text/x-python",
   "name": "python",
   "nbconvert_exporter": "python",
   "pygments_lexer": "ipython3",
   "version": "3.7.3"
  }
 },
 "nbformat": 4,
 "nbformat_minor": 4
}
