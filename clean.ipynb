{
 "cells": [
  {
   "cell_type": "code",
   "execution_count": 1,
   "metadata": {},
   "outputs": [
    {
     "data": {
      "text/plain": [
       "'1.1.0'"
      ]
     },
     "execution_count": 1,
     "metadata": {},
     "output_type": "execute_result"
    }
   ],
   "source": [
    "import numpy as np\n",
    "import scipy.sparse as sp\n",
    "import graphgallery\n",
    "from graphgallery import functional as gf \n",
    "graphgallery.__version__"
   ]
  },
  {
   "cell_type": "markdown",
   "metadata": {},
   "source": [
    "# Load datasets\n",
    "+ cora\n",
    "+ citeseer\n",
    "+ cora_ml\n",
    "+ pubmed"
   ]
  },
  {
   "cell_type": "code",
   "execution_count": 2,
   "metadata": {},
   "outputs": [
    {
     "name": "stdout",
     "output_type": "stream",
     "text": [
      "Dataset 'cora' has already existed, loading it...\n",
      "Processing dataset 'cora'...\n",
      "Processing completed.\n"
     ]
    }
   ],
   "source": [
    "dataset = 'cora'\n",
    "data = graphgallery.datasets.NPZDataset(dataset, root='~/GraphData/datasets/', transform=\"standardize\",  verbose=True)\n",
    "splits = data.split_nodes(random_state=15)\n",
    "graph = data.graph"
   ]
  },
  {
   "cell_type": "markdown",
   "metadata": {},
   "source": [
    "# MedianGCN and TrimmedGCN"
   ]
  },
  {
   "cell_type": "code",
   "execution_count": 3,
   "metadata": {},
   "outputs": [
    {
     "data": {
      "text/plain": [
       "PyTorch 1.9.0+cu102 Backend"
      ]
     },
     "execution_count": 3,
     "metadata": {},
     "output_type": "execute_result"
    }
   ],
   "source": [
    "graphgallery.set_backend('torch')"
   ]
  },
  {
   "cell_type": "code",
   "execution_count": 4,
   "metadata": {},
   "outputs": [],
   "source": [
    "from graphgallery.gallery.nodeclas import MedianGCN\n",
    "from graphgallery.gallery.nodeclas import TrimmedGCN\n",
    "from graphgallery.gallery import callbacks"
   ]
  },
  {
   "cell_type": "code",
   "execution_count": 5,
   "metadata": {},
   "outputs": [
    {
     "name": "stdout",
     "output_type": "stream",
     "text": [
      "Training...\n",
      "100/100 [==============================] - Total: 91.06s - 910ms/step- loss: 0.194 - accuracy: 0.931 - val_loss: 0.633 - val_accuracy: 0.823\n",
      "Testing...\n",
      "1/1 [==============================] - Total: 239.38ms - 239ms/step- loss: 0.548 - accuracy: 0.843\n"
     ]
    },
    {
     "data": {
      "text/plain": [
       "Objects in BunchDict:\n",
       "╒══════════╤═══════════╕\n",
       "│ Names    │   Objects │\n",
       "╞══════════╪═══════════╡\n",
       "│ loss     │  0.548302 │\n",
       "├──────────┼───────────┤\n",
       "│ accuracy │  0.842555 │\n",
       "╘══════════╧═══════════╛"
      ]
     },
     "execution_count": 5,
     "metadata": {},
     "output_type": "execute_result"
    }
   ],
   "source": [
    "median = MedianGCN(device=\"cuda\", seed=10).setup_graph(graph).build()\n",
    "# median = TrimmedGCN(device=\"cuda\", seed=10).setup_graph(graph).build()\n",
    "cb = callbacks.ModelCheckpoint('model.pth', monitor='val_accuracy')\n",
    "median.fit(splits.train_nodes, splits.val_nodes, verbose=1, callbacks=[cb])\n",
    "\n",
    "# performance on test set\n",
    "median.evaluate(splits.test_nodes)"
   ]
  },
  {
   "cell_type": "code",
   "execution_count": 6,
   "metadata": {},
   "outputs": [
    {
     "data": {
      "text/plain": [
       "MedianGCN(\n",
       "  (conv): Sequential(\n",
       "    (0): Dropout(p=0.5, inplace=False)\n",
       "    (1): MedianConv(1433, 16)\n",
       "    (2): ReLU()\n",
       "    (3): Dropout(p=0.5, inplace=False)\n",
       "    (4): MedianConv(16, 7)\n",
       "  )\n",
       ")"
      ]
     },
     "execution_count": 6,
     "metadata": {},
     "output_type": "execute_result"
    }
   ],
   "source": [
    "median.model"
   ]
  },
  {
   "cell_type": "markdown",
   "metadata": {},
   "source": [
    "# Baseline: GCN"
   ]
  },
  {
   "cell_type": "code",
   "execution_count": 7,
   "metadata": {},
   "outputs": [
    {
     "name": "stdout",
     "output_type": "stream",
     "text": [
      "Training...\n",
      "100/100 [==============================] - Total: 428.46ms - 4ms/step- loss: 0.101 - accuracy: 0.98 - val_loss: 0.6 - val_accuracy: 0.807\n",
      "Testing...\n",
      "1/1 [==============================] - Total: 1.84ms - 1ms/step- loss: 0.557 - accuracy: 0.842\n"
     ]
    },
    {
     "data": {
      "text/plain": [
       "Objects in BunchDict:\n",
       "╒══════════╤═══════════╕\n",
       "│ Names    │   Objects │\n",
       "╞══════════╪═══════════╡\n",
       "│ loss     │  0.557011 │\n",
       "├──────────┼───────────┤\n",
       "│ accuracy │  0.841549 │\n",
       "╘══════════╧═══════════╛"
      ]
     },
     "execution_count": 7,
     "metadata": {},
     "output_type": "execute_result"
    }
   ],
   "source": [
    "gcn = graphgallery.gallery.nodeclas.GCN(device=\"cuda\", seed=10).setup_graph(graph).build()\n",
    "cb = callbacks.ModelCheckpoint('model.pth', monitor='val_accuracy')\n",
    "gcn.fit(splits.train_nodes, splits.val_nodes, verbose=1, callbacks=[cb])\n",
    "\n",
    "# performance on test set\n",
    "gcn.evaluate(splits.test_nodes)"
   ]
  },
  {
   "cell_type": "code",
   "execution_count": 8,
   "metadata": {},
   "outputs": [
    {
     "data": {
      "text/plain": [
       "GCN(\n",
       "  (conv): Sequential(\n",
       "    (0): Dropout(p=0.5, inplace=False)\n",
       "    (1): GCNConv(1433, 16)\n",
       "    (2): ReLU()\n",
       "    (3): Dropout(p=0.5, inplace=False)\n",
       "    (4): GCNConv(16, 7)\n",
       "  )\n",
       ")"
      ]
     },
     "execution_count": 8,
     "metadata": {},
     "output_type": "execute_result"
    }
   ],
   "source": [
    "gcn.model"
   ]
  }
 ],
 "metadata": {
  "kernelspec": {
   "display_name": "Python 3",
   "language": "python",
   "name": "python3"
  },
  "language_info": {
   "codemirror_mode": {
    "name": "ipython",
    "version": 3
   },
   "file_extension": ".py",
   "mimetype": "text/x-python",
   "name": "python",
   "nbconvert_exporter": "python",
   "pygments_lexer": "ipython3",
   "version": "3.7.3"
  }
 },
 "nbformat": 4,
 "nbformat_minor": 4
}
